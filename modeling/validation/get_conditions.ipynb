{
 "cells": [
  {
   "cell_type": "code",
   "execution_count": 1,
   "metadata": {},
   "outputs": [],
   "source": [
    "import pandas as pd\n",
    "import numpy as np\n",
    "from itertools import product"
   ]
  },
  {
   "cell_type": "code",
   "execution_count": 2,
   "metadata": {},
   "outputs": [],
   "source": [
    "def expand_ranges(ranges):\n",
    "    return {k: np.arange(v[0], v[1], v[2]).tolist() for k, v in ranges.items()}\n",
    "\n",
    "def enumerate_conditions(ranges, n_samples):\n",
    "    \"\"\"Return list mapping each peptide index to condition dict\"\"\"\n",
    "    feature_ranges = expand_ranges(ranges)\n",
    "    combos = list(product(*feature_ranges.values()))\n",
    "    keys = list(feature_ranges.keys())\n",
    "    conds = []\n",
    "    for combo_id, combo in enumerate(combos):\n",
    "        params = dict(zip(keys, combo))\n",
    "        for _ in range(n_samples):\n",
    "            conds.append(params)\n",
    "    return conds"
   ]
  },
  {
   "cell_type": "code",
   "execution_count": 6,
   "metadata": {},
   "outputs": [
    {
     "name": "stdout",
     "output_type": "stream",
     "text": [
      "    peptide  index  length  is_assembled  has_beta_sheet_content  net_charge\n",
      "0   WEPGTPW      0       7             1                       1         0.4\n",
      "1  AKTPEMWH      1       7             1                       1         0.4\n",
      "2   KIETGFE      2       7             1                       1         0.4\n",
      "3  ELHYTPYN      3       7             1                       1         0.4\n",
      "4   FYCAEFT      4       7             1                       1         0.4\n",
      "5   CHITDWV      5       7             1                       1         0.4\n",
      "6   VFIYCFV      6       7             1                       1         0.4\n",
      "7   PYFEYAI      7       7             1                       1         0.4\n",
      "8   AYHYGPD      8       7             1                       1         0.4\n",
      "9   FDANWHL      9       7             1                       1         0.4\n"
     ]
    }
   ],
   "source": [
    "fiber_ranges = {\n",
    "    'length': (7, 11, 1),\n",
    "    'is_assembled': (1, 2, 1),\n",
    "    'has_beta_sheet_content': (1, 2, 1),\n",
    "    'net_charge': (0.4, 0.6, 0.05),\n",
    "}\n",
    "\n",
    "with open(\"gen_peptides/generated_fibers_init.txt\") as f:\n",
    "    peptides = [line.strip() for line in f if line.strip()]\n",
    "\n",
    "conds = enumerate_conditions(fiber_ranges, n_samples=300)\n",
    "\n",
    "df_fib = pd.DataFrame({\n",
    "    \"peptide\": peptides,\n",
    "    \"index\": range(len(peptides)),\n",
    "    **{k: [c[k] for c in conds] for k in conds[0].keys()}\n",
    "})\n",
    "\n",
    "df_fib.to_csv(\"fibers_with_conditions.csv\", index=False)\n",
    "print(df_fib.head(10))"
   ]
  },
  {
   "cell_type": "code",
   "execution_count": 9,
   "metadata": {},
   "outputs": [
    {
     "name": "stdout",
     "output_type": "stream",
     "text": [
      "  peptide  index  length  is_assembled  hydrophobic_moment  net_charge\n",
      "0    PFQD      0       4             1                 0.6         0.4\n",
      "1    WAIE      1       4             1                 0.6         0.4\n",
      "2    CWEW      2       4             1                 0.6         0.4\n",
      "3    VDWA      3       4             1                 0.6         0.4\n",
      "4    LMYE      4       4             1                 0.6         0.4\n",
      "5    VWEI      5       4             1                 0.6         0.4\n",
      "6    WDYV      6       4             1                 0.6         0.4\n",
      "7    YRED      7       4             1                 0.6         0.4\n",
      "8    FKED      8       4             1                 0.6         0.4\n",
      "9    PWEY      9       4             1                 0.6         0.4\n"
     ]
    }
   ],
   "source": [
    "sphere_ranges = {\n",
    "    'length': (4, 8, 1),\n",
    "    'is_assembled': (1, 2, 1),\n",
    "    'hydrophobic_moment': (0.6, 1.05, 0.1),\n",
    "    'net_charge': (0.4, 0.6, 0.05),\n",
    "}\n",
    "\n",
    "with open(\"gen_peptides/generated_spheres_init.txt\") as f:\n",
    "    peptides = [line.strip() for line in f if line.strip()]\n",
    "\n",
    "conds = enumerate_conditions(sphere_ranges, n_samples=60)\n",
    "\n",
    "df_sp = pd.DataFrame({\n",
    "    \"peptide\": peptides,\n",
    "    \"index\": range(len(peptides)),\n",
    "    **{k: [c[k] for c in conds] for k in conds[0].keys()}\n",
    "})\n",
    "\n",
    "df_sp.to_csv(\"spheres_with_conditions.csv\", index=False)\n",
    "print(df_sp.head(10))"
   ]
  }
 ],
 "metadata": {
  "kernelspec": {
   "display_name": "base",
   "language": "python",
   "name": "python3"
  },
  "language_info": {
   "codemirror_mode": {
    "name": "ipython",
    "version": 3
   },
   "file_extension": ".py",
   "mimetype": "text/x-python",
   "name": "python",
   "nbconvert_exporter": "python",
   "pygments_lexer": "ipython3",
   "version": "3.12.2"
  }
 },
 "nbformat": 4,
 "nbformat_minor": 2
}
