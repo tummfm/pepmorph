{
 "cells": [
  {
   "cell_type": "code",
   "execution_count": null,
   "metadata": {},
   "outputs": [],
   "source": [
    "\n",
    "import os\n",
    "import glob\n",
    "import pandas as pd"
   ]
  },
  {
   "cell_type": "code",
   "execution_count": null,
   "metadata": {},
   "outputs": [],
   "source": [
    "metrics = pd.read_csv('peptide_metrics.csv')"
   ]
  },
  {
   "cell_type": "code",
   "execution_count": null,
   "metadata": {},
   "outputs": [],
   "source": [
    "metrics[(abs(metrics['net_charge']) < 2) & (metrics['hydrophobic_moment'] > 1.2)]"
   ]
  },
  {
   "cell_type": "code",
   "execution_count": null,
   "metadata": {},
   "outputs": [],
   "source": [
    "peptide_folders = [d for d in glob.glob(\"./peptide_structures/peptide_*\") if os.path.isdir(d)]\n",
    "print(f\"Found {len(peptide_folders)} peptide folders.\")\n",
    "\n",
    "count = 0\n",
    "for folder_path in peptide_folders:\n",
    "    peptide_id = os.path.basename(folder_path)\n",
    "    seq_files = glob.glob(os.path.join(folder_path, \"*.seq\"))\n",
    "    if not seq_files:\n",
    "        continue\n",
    "    pdb_pattern = os.path.join(folder_path, f\"{peptide_id}-bestmodel.pdb\")\n",
    "    pdb_files = glob.glob(pdb_pattern)\n",
    "    if not pdb_files:\n",
    "        continue\n",
    "\n",
    "    count += 1\n",
    "\n",
    "print(f\"There are {len(peptide_folders) - count} yet to process peptide folders.\")\n"
   ]
  }
 ],
 "metadata": {
  "kernelspec": {
   "display_name": ".venv",
   "language": "python",
   "name": "python3"
  },
  "language_info": {
   "codemirror_mode": {
    "name": "ipython",
    "version": 3
   },
   "file_extension": ".py",
   "mimetype": "text/x-python",
   "name": "python",
   "nbconvert_exporter": "python",
   "pygments_lexer": "ipython3",
   "version": "3.12.3"
  }
 },
 "nbformat": 4,
 "nbformat_minor": 2
}
